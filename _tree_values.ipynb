{
 "cells": [
  {
   "cell_type": "code",
   "execution_count": 1,
   "id": "9f859743-c212-4ef1-a2e6-683d00d07c00",
   "metadata": {},
   "outputs": [],
   "source": [
    "import os\n",
    "import pandas as pd \n",
    "import numpy as np \n",
    "import matplotlib.pyplot as plt\n",
    "import seaborn as sns\n",
    "\n",
    "from sklearn.preprocessing import OrdinalEncoder, OneHotEncoder\n",
    "from sklearn.model_selection import train_test_split\n",
    "\n",
    "from sklearn import tree\n",
    "import networkx as nx\n",
    "from TreeHelp import Node\n",
    "\n",
    "# PATH = \"/home/erf6575/Desktop/SynthData/\"\n",
    "PATH = os.getcwd() + \"/\"\n",
    "SEED = 42"
   ]
  },
  {
   "cell_type": "code",
   "execution_count": 2,
   "id": "4c58beed-a766-40c6-9bb6-1e31d9e72346",
   "metadata": {},
   "outputs": [],
   "source": [
    "class Dataset:\n",
    "    \n",
    "    def __init__(self, filePath):\n",
    "        \n",
    "        # Read file\n",
    "        dataset = pd.read_csv(filePath).dropna()\n",
    "\n",
    "        # Make sure all values are numeric\n",
    "        encoder = OrdinalEncoder()\n",
    "        for col in list(dataset.select_dtypes(include=['object']).columns):\n",
    "            dataset[col] = encoder.fit_transform(dataset[[col]])\n",
    "\n",
    "        # Define x and y\n",
    "        x_input = dataset.drop(columns=['y'])\n",
    "        y_target = dataset['y']\n",
    "\n",
    "        X_train, X_test, y_train, y_test = train_test_split(x_input.to_numpy(), y_target.to_numpy(), test_size=0.20, random_state=42, stratify=y_target)\n",
    "    \n",
    "        self.x_train = X_train\n",
    "        self.x_test = X_test\n",
    "        self.y_train = y_train\n",
    "        self.y_test = y_test\n",
    "        \n",
    "        self.x_input = x_input\n",
    "        self.y_target = y_target\n",
    "        \n",
    "    def __repr__(self):\n",
    "         return f\"Dataset <x_train: {self.x_train.shape}, x_test: {self.x_test.shape}, y_train: {self.y_train.shape}, y_test: {self.y_test.shape}>\"\n",
    "        \n",
    "    def __str__(self):\n",
    "         return self.__repr__()\n",
    "        \n",
    "def print_tree(node, depth=0):\n",
    "    if node is None:\n",
    "        return\n",
    "    # Print the current node with indentation based on its depth\n",
    "    print(\" \" * depth * 2 + f\"Node(label={node.label}, value={node.value})\")\n",
    "    # Recursively print each child\n",
    "    for child in node.children:\n",
    "        print_tree(child, depth + 1)"
   ]
  },
  {
   "cell_type": "code",
   "execution_count": 3,
   "id": "60a4a912-dc29-4235-bcb0-7adf6d330d7c",
   "metadata": {},
   "outputs": [
    {
     "name": "stdout",
     "output_type": "stream",
     "text": [
      "Orginial F1: 0.9333333333333333\n",
      "GC F1: 0.532063492063492\n",
      "CTGAN F1: 0.3009090909090909\n",
      "PATE F1: 0.7282913165266105\n",
      "PB F1: 0.24055555555555555\n"
     ]
    }
   ],
   "source": [
    "df_o = Dataset(PATH + \"data/iris_original.csv\")\n",
    "df_g = Dataset(PATH + \"data/iris_gc.csv\")\n",
    "df_c = Dataset(PATH + \"data/iris_ctgan.csv\")\n",
    "df_p = Dataset(PATH + \"data/iris_pate.csv\")\n",
    "df_b = Dataset(PATH + \"data/iris_pb.csv\")\n",
    "\n",
    "\n",
    "from sklearn.tree import DecisionTreeClassifier\n",
    "\n",
    "clf_original = DecisionTreeClassifier(random_state=42)\n",
    "clf_original.fit(df_o.x_train, df_o.y_train)\n",
    "\n",
    "clf_gc = DecisionTreeClassifier(random_state=42)\n",
    "clf_gc.fit(df_g.x_train, df_g.y_train)\n",
    "\n",
    "clf_ctgan = DecisionTreeClassifier(random_state=42)\n",
    "clf_ctgan.fit(df_c.x_train, df_c.y_train)\n",
    "\n",
    "clf_pate = DecisionTreeClassifier(random_state=42)\n",
    "clf_pate.fit(df_p.x_train, df_p.y_train)\n",
    "\n",
    "clf_pb = DecisionTreeClassifier(random_state=42)\n",
    "clf_pb.fit(df_b.x_train, df_b.y_train)\n",
    "\n",
    "\n",
    "from sklearn.metrics import f1_score\n",
    "\n",
    "print(\"Orginial F1:\", f1_score(df_o.y_test, clf_original.predict(df_o.x_test), average='weighted'))\n",
    "print(\"GC F1:\", f1_score(df_g.y_test, clf_gc.predict(df_g.x_test), average='weighted'))\n",
    "print(\"CTGAN F1:\", f1_score(df_c.y_test, clf_ctgan.predict(df_c.x_test), average='weighted'))\n",
    "print(\"PATE F1:\", f1_score(df_p.y_test, clf_pate.predict(df_p.x_test), average='weighted'))\n",
    "print(\"PB F1:\", f1_score(df_b.y_test, clf_pb.predict(df_b.x_test), average='weighted'))"
   ]
  },
  {
   "cell_type": "code",
   "execution_count": 30,
   "id": "66ebafbc-3ae6-4569-ace7-7fce6db7ba1d",
   "metadata": {},
   "outputs": [
    {
     "name": "stdout",
     "output_type": "stream",
     "text": [
      "Accuracy 0.9333333333333333\n",
      "F1: 0.9333333333333333\n",
      "AUC: 0.95\n",
      "Precision: 0.9333333333333333\n",
      "Recall: 0.9333333333333333\n"
     ]
    }
   ],
   "source": [
    "from sklearn.metrics import accuracy_score, f1_score, roc_auc_score, precision_score, recall_score\n",
    "\n",
    "# Return predictions\n",
    "Y_pred = clf_original.predict(df_o.x_test)\n",
    "\n",
    "# Evaluation\n",
    "acc = accuracy_score(df_o.y_test, Y_pred)\n",
    "print(\"Accuracy\", acc)\n",
    "f1 = f1_score(df_o.y_test, Y_pred, average='weighted')\n",
    "print(\"F1:\", f1)\n",
    "\n",
    "if len(clf_original.classes_) == 2:\n",
    "    Y_pred_prob = clf_original.predict_proba(df_o.x_test)[:, 1]\n",
    "    auc = roc_auc_score(df_o.y_test, Y_pred_prob, average='weighted')\n",
    "elif len(clf_original.classes_) > 2:\n",
    "    Y_pred_prob = clf_original.predict_proba(df_o.x_test)\n",
    "    auc = roc_auc_score(df_o.y_test, Y_pred_prob, average='weighted', multi_class='ovo')\n",
    "else:\n",
    "    print(\"what?\")\n",
    "print(\"AUC:\", auc)\n",
    "\n",
    "precision = precision_score(df_o.y_test, Y_pred, average='weighted')\n",
    "print(\"Precision:\", precision)\n",
    "recall = recall_score(df_o.y_test, Y_pred, average='weighted')\n",
    "print(\"Recall:\", recall)"
   ]
  },
  {
   "cell_type": "code",
   "execution_count": 4,
   "id": "73d33d6e-c31a-4f74-bbc2-9b86ec89ea06",
   "metadata": {},
   "outputs": [],
   "source": [
    "def build_zss_tree(tree, node_id=0):\n",
    "    \"\"\"Helper function to construct tree.\"\"\"\n",
    "    if node_id == -1:\n",
    "        return None\n",
    "    \n",
    "    # Check if a leave node\n",
    "    if tree.feature[node_id] == -2:\n",
    "        class_label = np.argmax(tree.value[node_id][0])\n",
    "        node = Node(label=f\"Class_{class_label}\", value=tree.value[node_id])\n",
    "    else:\n",
    "        node = Node(label=tree.feature[node_id], value=tree.value[node_id])\n",
    "    \n",
    "    left_child = tree.children_left[node_id]\n",
    "    right_child = tree.children_right[node_id]\n",
    "    \n",
    "    if left_child != -1:\n",
    "        node.addkid(build_zss_tree(tree, left_child))\n",
    "    if right_child != -1:\n",
    "        node.addkid(build_zss_tree(tree, right_child))\n",
    "    \n",
    "    return node"
   ]
  },
  {
   "cell_type": "code",
   "execution_count": 5,
   "id": "babcea6f-fb9e-4e94-ae46-d6fde79a0660",
   "metadata": {},
   "outputs": [],
   "source": [
    "# def add_nodes_edges(graph, node, parent=None):\n",
    "#     \"\"\"Helper function to add nodes and edges to the graph.\"\"\"\n",
    "    \n",
    "#     # Add or update the node\n",
    "#     if not graph.has_node(node.label):\n",
    "#         graph.add_node(node.label, label=node.label, value=node.value)\n",
    "#     else:\n",
    "#         # Moving average\n",
    "#         current = graph.nodes[node.label]['value']\n",
    "#         new = node.value\n",
    "#         a = np.concatenate((current, new), axis=0)\n",
    "#         graph.nodes[node.label]['value'] = np.expand_dims(np.mean(a, axis=0), axis=0)\n",
    "    \n",
    "#     # Add or update the edge if there is a parent\n",
    "#     if parent:\n",
    "#         if not graph.has_edge(parent.label, node.label):\n",
    "#             graph.add_edge(parent.label, node.label, path=f\"[{parent.label}][{node.label}]\")\n",
    "            \n",
    "        \n",
    "#     # Recurse  \n",
    "#     for child in node.children:\n",
    "#         add_nodes_edges(graph, child, node)\n",
    "\n",
    "# def tree_to_digraph(root):\n",
    "#     \"\"\"Converts a tree to a NetworkX directed graph.\"\"\"\n",
    "#     G = nx.DiGraph()\n",
    "#     add_nodes_edges(G, root)\n",
    "#     return G\n",
    "\n",
    "def add_nodes_edges(graph, node, parent=None):\n",
    "    \"\"\"Helper function to add nodes and edges to the graph.\"\"\"\n",
    "    \n",
    "    # Add or update the node\n",
    "    if not graph.has_node(node.label):\n",
    "        graph.add_node(node.label, label=node.label, value=node.value)\n",
    "    else:\n",
    "        # Static average\n",
    "        current = graph.nodes[node.label]['value']\n",
    "        new = node.value\n",
    "        graph.nodes[node.label]['value'] = np.concatenate((current, new), axis=0)\n",
    "    \n",
    "    # Add or update the edge if there is a parent\n",
    "    if parent:\n",
    "        if not graph.has_edge(parent.label, node.label):\n",
    "            graph.add_edge(parent.label, node.label, path=f\"[{parent.label}][{node.label}]\")\n",
    "            \n",
    "        \n",
    "    # Recurse  \n",
    "    for child in node.children:\n",
    "        add_nodes_edges(graph, child, node)\n",
    "\n",
    "def tree_to_digraph(root):\n",
    "    \"\"\"Converts a tree to a NetworkX directed graph.\"\"\"\n",
    "    G = nx.DiGraph()\n",
    "    add_nodes_edges(G, root)\n",
    "    \n",
    "    # Caculates average at the end\n",
    "    for node in G.nodes:\n",
    "        G.nodes[node]['value'] = np.expand_dims(np.mean(G.nodes[node]['value'], axis=0), axis=0)\n",
    "    return G"
   ]
  },
  {
   "cell_type": "code",
   "execution_count": 6,
   "id": "2a41da8a-4062-42bb-b368-a88527b598b9",
   "metadata": {},
   "outputs": [],
   "source": [
    "tree_original = build_zss_tree(clf_original.tree_)\n",
    "tree_gc = build_zss_tree(clf_gc.tree_)\n",
    "tree_ctgan = build_zss_tree(clf_ctgan.tree_)\n",
    "tree_pate = build_zss_tree(clf_pate.tree_)\n",
    "tree_pb = build_zss_tree(clf_pb.tree_)\n",
    "\n",
    "graph_original = tree_to_digraph(tree_original)\n",
    "graph_gc = tree_to_digraph(tree_gc)\n",
    "graph_ctgan = tree_to_digraph(tree_ctgan)\n",
    "graph_pate = tree_to_digraph(tree_pate)\n",
    "graph_pb = tree_to_digraph(tree_pb)"
   ]
  },
  {
   "cell_type": "code",
   "execution_count": 7,
   "id": "058bf5da-dd0f-42a5-8a23-613b4a61c19b",
   "metadata": {},
   "outputs": [
    {
     "data": {
      "text/plain": [
       "[Text(0.4, 0.9166666666666666, 'X[2] <= 2.45\\ngini = 0.667\\nsamples = 120\\nvalue = [40, 40, 40]'),\n",
       " Text(0.3, 0.75, 'gini = 0.0\\nsamples = 40\\nvalue = [40, 0, 0]'),\n",
       " Text(0.5, 0.75, 'X[3] <= 1.65\\ngini = 0.5\\nsamples = 80\\nvalue = [0, 40, 40]'),\n",
       " Text(0.2, 0.5833333333333334, 'X[2] <= 4.95\\ngini = 0.133\\nsamples = 42\\nvalue = [0, 39, 3]'),\n",
       " Text(0.1, 0.4166666666666667, 'gini = 0.0\\nsamples = 38\\nvalue = [0, 38, 0]'),\n",
       " Text(0.3, 0.4166666666666667, 'X[0] <= 6.15\\ngini = 0.375\\nsamples = 4\\nvalue = [0, 1, 3]'),\n",
       " Text(0.2, 0.25, 'X[1] <= 2.45\\ngini = 0.5\\nsamples = 2\\nvalue = [0, 1, 1]'),\n",
       " Text(0.1, 0.08333333333333333, 'gini = 0.0\\nsamples = 1\\nvalue = [0, 0, 1]'),\n",
       " Text(0.3, 0.08333333333333333, 'gini = 0.0\\nsamples = 1\\nvalue = [0, 1, 0]'),\n",
       " Text(0.4, 0.25, 'gini = 0.0\\nsamples = 2\\nvalue = [0, 0, 2]'),\n",
       " Text(0.8, 0.5833333333333334, 'X[2] <= 4.85\\ngini = 0.051\\nsamples = 38\\nvalue = [0, 1, 37]'),\n",
       " Text(0.7, 0.4166666666666667, 'X[1] <= 3.0\\ngini = 0.444\\nsamples = 3\\nvalue = [0, 1, 2]'),\n",
       " Text(0.6, 0.25, 'gini = 0.0\\nsamples = 2\\nvalue = [0, 0, 2]'),\n",
       " Text(0.8, 0.25, 'gini = 0.0\\nsamples = 1\\nvalue = [0, 1, 0]'),\n",
       " Text(0.9, 0.4166666666666667, 'gini = 0.0\\nsamples = 35\\nvalue = [0, 0, 35]')]"
      ]
     },
     "execution_count": 7,
     "metadata": {},
     "output_type": "execute_result"
    },
    {
     "data": {
      "image/png": "[encoded data removed]",
      "text/plain": [
       "<Figure size 640x480 with 1 Axes>"
      ]
     },
     "metadata": {},
     "output_type": "display_data"
    }
   ],
   "source": [
    "tree.plot_tree(clf_original, fontsize=6)"
   ]
  },
  {
   "cell_type": "code",
   "execution_count": 8,
   "id": "4f694cb2-3ac6-47a9-aad6-916bae7bc5c1",
   "metadata": {},
   "outputs": [
    {
     "name": "stdout",
     "output_type": "stream",
     "text": [
      "Node(label=2, value=[[40. 40. 40.]])\n",
      "  Node(label=Class_0, value=[[40.  0.  0.]])\n",
      "  Node(label=3, value=[[ 0. 40. 40.]])\n",
      "    Node(label=2, value=[[ 0. 39.  3.]])\n",
      "      Node(label=Class_1, value=[[ 0. 38.  0.]])\n",
      "      Node(label=0, value=[[0. 1. 3.]])\n",
      "        Node(label=1, value=[[0. 1. 1.]])\n",
      "          Node(label=Class_2, value=[[0. 0. 1.]])\n",
      "          Node(label=Class_1, value=[[0. 1. 0.]])\n",
      "        Node(label=Class_2, value=[[0. 0. 2.]])\n",
      "    Node(label=2, value=[[ 0.  1. 37.]])\n",
      "      Node(label=1, value=[[0. 1. 2.]])\n",
      "        Node(label=Class_2, value=[[0. 0. 2.]])\n",
      "        Node(label=Class_1, value=[[0. 1. 0.]])\n",
      "      Node(label=Class_2, value=[[ 0.  0. 35.]])\n"
     ]
    },
    {
     "data": {
      "image/png": "[encoded data removed]",
      "text/plain": [
       "<Figure size 640x480 with 1 Axes>"
      ]
     },
     "metadata": {},
     "output_type": "display_data"
    }
   ],
   "source": [
    "print_tree(tree_original)\n",
    "nx.draw(graph_original, with_labels=True)"
   ]
  },
  {
   "cell_type": "code",
   "execution_count": 9,
   "id": "f2bc6330-6d4d-4192-aa3d-894275fc7653",
   "metadata": {},
   "outputs": [
    {
     "data": {
      "text/plain": [
       "{'label': 2, 'value': array([[13.33333333, 26.66666667, 26.66666667]])}"
      ]
     },
     "execution_count": 9,
     "metadata": {},
     "output_type": "execute_result"
    }
   ],
   "source": [
    "graph_original.nodes[2]"
   ]
  },
  {
   "cell_type": "code",
   "execution_count": 10,
   "id": "2135cd84-04fb-4560-be4c-cd2c8006d374",
   "metadata": {},
   "outputs": [
    {
     "name": "stdout",
     "output_type": "stream",
     "text": [
      "Original Cost: 0.0\n",
      "{'label': 2, 'value': array([[13.33333333, 26.66666667, 26.66666667]])} {'label': 2, 'value': array([[2.33333333, 3.75      , 1.41666667]])}\n",
      "{'label': 'Class_0', 'value': array([[40.,  0.,  0.]])} {'label': 'Class_0', 'value': array([[2.27777778, 0.        , 0.        ]])}\n",
      "{'label': 3, 'value': array([[ 0., 40., 40.]])} {'label': 3, 'value': array([[6.25      , 5.75      , 5.91666667]])}\n",
      "{'label': 'Class_1', 'value': array([[ 0.        , 13.33333333,  0.        ]])} {'label': 'Class_1', 'value': array([[0.        , 2.06666667, 0.        ]])}\n",
      "{'label': 0, 'value': array([[0., 1., 3.]])} {'label': 0, 'value': array([[10.9,  6.1,  6.5]])}\n",
      "{'label': 1, 'value': array([[0. , 1. , 1.5]])} {'label': 1, 'value': array([[5.        , 4.54545455, 8.27272727]])}\n",
      "{'label': 'Class_2', 'value': array([[ 0.,  0., 10.]])} {'label': 'Class_2', 'value': array([[0.        , 0.        , 3.69230769]])}\n",
      "GC Cost: 17.837308101319497\n",
      "{'label': 2, 'value': array([[13.33333333, 26.66666667, 26.66666667]])} {'label': 2, 'value': array([[4.54545455, 3.63636364, 2.63636364]])}\n",
      "{'label': 'Class_0', 'value': array([[40.,  0.,  0.]])} {'label': 'Class_0', 'value': array([[2.23529412, 0.        , 0.        ]])}\n",
      "{'label': 3, 'value': array([[ 0., 40., 40.]])} {'label': 3, 'value': array([[2.4375, 3.5   , 2.6875]])}\n",
      "{'label': 'Class_1', 'value': array([[ 0.        , 13.33333333,  0.        ]])} {'label': 'Class_1', 'value': array([[0.        , 2.04545455, 0.        ]])}\n",
      "{'label': 0, 'value': array([[0., 1., 3.]])} {'label': 0, 'value': array([[6.11764706, 6.23529412, 4.47058824]])}\n",
      "{'label': 1, 'value': array([[0. , 1. , 1.5]])} {'label': 1, 'value': array([[6.7, 7.8, 6.5]])}\n",
      "{'label': 'Class_2', 'value': array([[ 0.,  0., 10.]])} {'label': 'Class_2', 'value': array([[0.    , 0.    , 2.3125]])}\n",
      "CTGAN Cost: 17.80718344877208\n",
      "{'label': 2, 'value': array([[13.33333333, 26.66666667, 26.66666667]])} {'label': 2, 'value': array([[ 1.33333333, 25.        ,  2.77777778]])}\n",
      "{'label': 'Class_0', 'value': array([[40.,  0.,  0.]])} {'label': 'Class_0', 'value': array([[1.2, 0. , 0. ]])}\n",
      "{'label': 3, 'value': array([[ 0., 40., 40.]])} {'label': 3, 'value': array([[ 0.90909091, 25.36363636,  4.        ]])}\n",
      "{'label': 'Class_1', 'value': array([[ 0.        , 13.33333333,  0.        ]])} {'label': 'Class_1', 'value': array([[0.        , 6.53333333, 0.        ]])}\n",
      "{'label': 0, 'value': array([[0., 1., 3.]])} {'label': 0, 'value': array([[ 1. , 24.2,  2.8]])}\n",
      "{'label': 1, 'value': array([[0. , 1. , 1.5]])} {'label': 1, 'value': array([[0.83333333, 8.16666667, 2.83333333]])}\n",
      "{'label': 'Class_2', 'value': array([[ 0.,  0., 10.]])} {'label': 'Class_2', 'value': array([[0.        , 0.        , 1.33333333]])}\n",
      "PATE Cost: 15.223139403363767\n",
      "{'label': 2, 'value': array([[13.33333333, 26.66666667, 26.66666667]])} {'label': 2, 'value': array([[3.5, 4.2, 3.9]])}\n",
      "{'label': 'Class_0', 'value': array([[40.,  0.,  0.]])} {'label': 'Class_0', 'value': array([[2.52941176, 0.        , 0.        ]])}\n",
      "{'label': 3, 'value': array([[ 0., 40., 40.]])} {'label': 3, 'value': array([[4.61538462, 2.53846154, 3.53846154]])}\n",
      "{'label': 'Class_1', 'value': array([[ 0.        , 13.33333333,  0.        ]])} {'label': 'Class_1', 'value': array([[0. , 2.4, 0. ]])}\n",
      "{'label': 0, 'value': array([[0., 1., 3.]])} {'label': 0, 'value': array([[10.76923077,  8.38461538, 10.15384615]])}\n",
      "{'label': 1, 'value': array([[0. , 1. , 1.5]])} {'label': 1, 'value': array([[6.6, 7.3, 4.4]])}\n",
      "{'label': 'Class_2', 'value': array([[ 0.,  0., 10.]])} {'label': 'Class_2', 'value': array([[0.        , 0.        , 2.73333333]])}\n",
      "PB Cost: 17.90764625722351\n"
     ]
    },
    {
     "name": "stderr",
     "output_type": "stream",
     "text": [
      "/opt/tljh/user/lib/python3.9/site-packages/networkx/algorithms/similarity.py:1078: VisibleDeprecationWarning: Creating an ndarray from ragged nested sequences (which is a list-or-tuple of lists-or-tuples-or ndarrays with different lengths or shapes) is deprecated. If you meant to do this, you must specify 'dtype=object' when creating the ndarray.\n",
      "  C[0:m, 0:n] = np.array(\n",
      "/opt/tljh/user/lib/python3.9/site-packages/networkx/algorithms/similarity.py:1078: VisibleDeprecationWarning: Creating an ndarray from ragged nested sequences (which is a list-or-tuple of lists-or-tuples-or ndarrays with different lengths or shapes) is deprecated. If you meant to do this, you must specify 'dtype=object' when creating the ndarray.\n",
      "  C[0:m, 0:n] = np.array(\n",
      "/opt/tljh/user/lib/python3.9/site-packages/networkx/algorithms/similarity.py:1078: VisibleDeprecationWarning: Creating an ndarray from ragged nested sequences (which is a list-or-tuple of lists-or-tuples-or ndarrays with different lengths or shapes) is deprecated. If you meant to do this, you must specify 'dtype=object' when creating the ndarray.\n",
      "  C[0:m, 0:n] = np.array(\n",
      "/opt/tljh/user/lib/python3.9/site-packages/networkx/algorithms/similarity.py:1078: VisibleDeprecationWarning: Creating an ndarray from ragged nested sequences (which is a list-or-tuple of lists-or-tuples-or ndarrays with different lengths or shapes) is deprecated. If you meant to do this, you must specify 'dtype=object' when creating the ndarray.\n",
      "  C[0:m, 0:n] = np.array(\n"
     ]
    }
   ],
   "source": [
    "from sklearn.metrics.pairwise import cosine_similarity\n",
    "\n",
    "def node_subst_cost(u, v):\n",
    "    \n",
    "    # Check if same name\n",
    "    if u['label'] == v['label']:\n",
    "        \n",
    "        # Check is same weight\n",
    "        if np.array_equal(u['value'], v['value']):\n",
    "            return 0\n",
    "        else:\n",
    "            # If similar then cosine_sim == 1, but we want it to be similar, so it's the inverse\n",
    "            print(u, v)\n",
    "            return 1 - cosine_similarity(u['value'], v['value'])    \n",
    "    \n",
    "    else:\n",
    "        return 1\n",
    "\n",
    "\n",
    "print(\"Original Cost:\", nx.graph_edit_distance(graph_original, graph_original, node_subst_cost=node_subst_cost))\n",
    "print(\"GC Cost:\", nx.graph_edit_distance(graph_original, graph_gc, node_subst_cost=node_subst_cost))\n",
    "print(\"CTGAN Cost:\", nx.graph_edit_distance(graph_original, graph_ctgan, node_subst_cost=node_subst_cost))\n",
    "print(\"PATE Cost:\", nx.graph_edit_distance(graph_original, graph_pate, node_subst_cost=node_subst_cost))\n",
    "print(\"PB Cost:\", nx.graph_edit_distance(graph_original, graph_pb, node_subst_cost=node_subst_cost))"
   ]
  },
  {
   "cell_type": "code",
   "execution_count": 17,
   "id": "ab504f78-21ce-499c-91db-f56ccf771424",
   "metadata": {},
   "outputs": [],
   "source": [
    "# The maximum number of operations required to transform one tree into another is determined by the structure and labels of the trees. \n",
    "# In the worst-case scenario, you would need to remove all nodes from one tree and then insert all nodes from the other tree. \n",
    "# This happens when the two trees have completely different structures and labels.\n",
    "def count_graph(G):\n",
    "    return len(G.nodes) + len(G.edges.data())\n",
    "\n",
    "def count_between(graphA, graphB):\n",
    "    return count_graph(graphA) + count_graph(graphB)"
   ]
  },
  {
   "cell_type": "code",
   "execution_count": 24,
   "id": "8d625a22-737c-4a1b-be0c-03eccec83fba",
   "metadata": {},
   "outputs": [
    {
     "name": "stdout",
     "output_type": "stream",
     "text": [
      "{'label': 2, 'value': array([[13.33333333, 26.66666667, 26.66666667]])} {'label': 2, 'value': array([[ 1.33333333, 25.        ,  2.77777778]])}\n",
      "{'label': 'Class_0', 'value': array([[40.,  0.,  0.]])} {'label': 'Class_0', 'value': array([[1.2, 0. , 0. ]])}\n",
      "{'label': 3, 'value': array([[ 0., 40., 40.]])} {'label': 3, 'value': array([[ 0.90909091, 25.36363636,  4.        ]])}\n",
      "{'label': 'Class_1', 'value': array([[ 0.        , 13.33333333,  0.        ]])} {'label': 'Class_1', 'value': array([[0.        , 6.53333333, 0.        ]])}\n",
      "{'label': 0, 'value': array([[0., 1., 3.]])} {'label': 0, 'value': array([[ 1. , 24.2,  2.8]])}\n",
      "{'label': 1, 'value': array([[0. , 1. , 1.5]])} {'label': 1, 'value': array([[0.83333333, 8.16666667, 2.83333333]])}\n",
      "{'label': 'Class_2', 'value': array([[ 0.,  0., 10.]])} {'label': 'Class_2', 'value': array([[0.        , 0.        , 1.33333333]])}\n",
      "Score: 0.6955372119327247\n"
     ]
    },
    {
     "name": "stderr",
     "output_type": "stream",
     "text": [
      "/opt/tljh/user/lib/python3.9/site-packages/networkx/algorithms/similarity.py:1078: VisibleDeprecationWarning: Creating an ndarray from ragged nested sequences (which is a list-or-tuple of lists-or-tuples-or ndarrays with different lengths or shapes) is deprecated. If you meant to do this, you must specify 'dtype=object' when creating the ndarray.\n",
      "  C[0:m, 0:n] = np.array(\n"
     ]
    }
   ],
   "source": [
    "print(\"Score:\", 1 - nx.graph_edit_distance(graph_original, graph_pate, node_subst_cost=node_subst_cost) / count_between(graph_original, graph_pate) )"
   ]
  },
  {
   "cell_type": "code",
   "execution_count": null,
   "id": "6a85d57e-755f-46f1-a9fb-deb15e498240",
   "metadata": {},
   "outputs": [],
   "source": []
  }
 ],
 "metadata": {
  "kernelspec": {
   "display_name": "Python 3 (ipykernel)",
   "language": "python",
   "name": "python3"
  },
  "language_info": {
   "codemirror_mode": {
    "name": "ipython",
    "version": 3
   },
   "file_extension": ".py",
   "mimetype": "text/x-python",
   "name": "python",
   "nbconvert_exporter": "python",
   "pygments_lexer": "ipython3",
   "version": "3.9.7"
  }
 },
 "nbformat": 4,
 "nbformat_minor": 5
}
